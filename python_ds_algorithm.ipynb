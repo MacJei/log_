{
 "cells": [
  {
   "cell_type": "markdown",
   "metadata": {},
   "source": [
    "# 01. 알고리즘 기초"
   ]
  },
  {
   "cell_type": "code",
   "execution_count": 1,
   "metadata": {},
   "outputs": [
    {
     "name": "stdout",
     "output_type": "stream",
     "text": [
      "세정수 최대값\n",
      "a = 12\n",
      "b = 222\n",
      "c = 11\n",
      "최대값 = 222\n"
     ]
    }
   ],
   "source": [
    "print('세정수 최대값')\n",
    "a = int(input('a = '))\n",
    "b = int(input('b = '))\n",
    "c = int(input('c = '))\n",
    "\n",
    "maximum = a\n",
    "if b > maximum:\n",
    "    maximum = b\n",
    "if c > maximum:\n",
    "    maximum = c\n",
    "\n",
    "print(f'최대값 = {maximum}')\n",
    "    "
   ]
  },
  {
   "cell_type": "code",
   "execution_count": 2,
   "metadata": {},
   "outputs": [
    {
     "data": {
      "text/plain": [
       "17"
      ]
     },
     "execution_count": 2,
     "metadata": {},
     "output_type": "execute_result"
    }
   ],
   "source": [
    "# 10진수 문자열 -> 10진수 정수형 변환\n",
    "int('17')"
   ]
  },
  {
   "cell_type": "code",
   "execution_count": 3,
   "metadata": {},
   "outputs": [
    {
     "data": {
      "text/plain": [
       "6"
      ]
     },
     "execution_count": 3,
     "metadata": {},
     "output_type": "execute_result"
    }
   ],
   "source": [
    "# 2진수 문자열 -> 10진수 정수형 변환\n",
    "int('0b110', 2)"
   ]
  },
  {
   "cell_type": "code",
   "execution_count": 4,
   "metadata": {},
   "outputs": [
    {
     "data": {
      "text/plain": [
       "61"
      ]
     },
     "execution_count": 4,
     "metadata": {},
     "output_type": "execute_result"
    }
   ],
   "source": [
    "# 8진수 문자열 -> 10진수 정수형 변환\n",
    "int('0o75', 8)"
   ]
  },
  {
   "cell_type": "code",
   "execution_count": 5,
   "metadata": {},
   "outputs": [
    {
     "data": {
      "text/plain": [
       "13"
      ]
     },
     "execution_count": 5,
     "metadata": {},
     "output_type": "execute_result"
    }
   ],
   "source": [
    "# 10진수 문자열 -> 10진수 정수형 변환\n",
    "int('13', 10)"
   ]
  },
  {
   "cell_type": "code",
   "execution_count": 6,
   "metadata": {},
   "outputs": [
    {
     "data": {
      "text/plain": [
       "63"
      ]
     },
     "execution_count": 6,
     "metadata": {},
     "output_type": "execute_result"
    }
   ],
   "source": [
    "# 16진수 문자열 -> 10진수 정수형 변환\n",
    "int('0x3F', 16)"
   ]
  },
  {
   "cell_type": "code",
   "execution_count": 7,
   "metadata": {},
   "outputs": [
    {
     "data": {
      "text/plain": [
       "3.14"
      ]
     },
     "execution_count": 7,
     "metadata": {},
     "output_type": "execute_result"
    }
   ],
   "source": [
    "# 문자열을 실수형 형변환\n",
    "float('3.14')"
   ]
  },
  {
   "cell_type": "code",
   "execution_count": 10,
   "metadata": {},
   "outputs": [
    {
     "data": {
      "text/plain": [
       "1255"
      ]
     },
     "execution_count": 10,
     "metadata": {},
     "output_type": "execute_result"
    }
   ],
   "source": [
    "def max3(a,b,c):\n",
    "    \"\"\"a,b,c의 최대값 반환\"\"\"\n",
    "    max_val = a\n",
    "    if b > max_val:\n",
    "        max_val = b\n",
    "    if c > max_val:\n",
    "        max_val = c\n",
    "        \n",
    "    return max_val\n",
    "\n",
    "max3(1,222,1255)"
   ]
  },
  {
   "cell_type": "markdown",
   "metadata": {},
   "source": [
    "- [PEP 8 Guide](https://www.python.org/dev/peps/pep-0008)"
   ]
  },
  {
   "cell_type": "code",
   "execution_count": 17,
   "metadata": {},
   "outputs": [
    {
     "name": "stdout",
     "output_type": "stream",
     "text": [
      "5\n",
      "111\n"
     ]
    }
   ],
   "source": [
    "def med3(a, b, c):\n",
    "    \"\"\"a, b, c의 중간값 반환\"\"\"\n",
    "    if a>= b and a<=c:\n",
    "        return a\n",
    "    if b >= a and b <= c:\n",
    "        return b\n",
    "    else:\n",
    "        return c\n",
    "\n",
    "print(med3(1, 8, 5))\n",
    "\n",
    "\n",
    "def med3_better(a, b, c):\n",
    "    \"\"\"a, b, c의 중간값 반환\"\"\"\n",
    "    if a>= b:\n",
    "        if a <= c:\n",
    "            return a\n",
    "        elif b<=c:\n",
    "            return c\n",
    "        else:\n",
    "            return b\n",
    "    elif b <= c:\n",
    "        return b\n",
    "    elif a <= c:\n",
    "        return c\n",
    "    else:\n",
    "        return a\n",
    "\n",
    "print(med3_better(111,21, 222))"
   ]
  },
  {
   "cell_type": "code",
   "execution_count": 21,
   "metadata": {},
   "outputs": [
    {
     "name": "stdout",
     "output_type": "stream",
     "text": [
      "10\n",
      "c는 0입니다.\n"
     ]
    }
   ],
   "source": [
    "# 삼항 연산자\n",
    "x = 10\n",
    "y = 5\n",
    "a = x if x>y else y\n",
    "print(a)\n",
    "\n",
    "c = 0\n",
    "print('c는 0입니다.'if c==0 else 'c는 0이 아닙니다.')"
   ]
  },
  {
   "cell_type": "markdown",
   "metadata": {},
   "source": [
    "- 반복하는 알고리즘"
   ]
  },
  {
   "cell_type": "code",
   "execution_count": 34,
   "metadata": {},
   "outputs": [
    {
     "name": "stdout",
     "output_type": "stream",
     "text": [
      "1~n까지의 합\n",
      "숫자 n 입력 > 10\n",
      "1~n의 합 (for)= 55\n",
      "1~n의 합 (while)= 55\n",
      "5~10 까지의 합 = 100\n"
     ]
    }
   ],
   "source": [
    "print('1~n까지의 합')\n",
    "n = int(input('숫자 n 입력 > '))\n",
    "\n",
    "sum = 0\n",
    "# range(n) 0~n-1\n",
    "# range(a,b) a~b-1\n",
    "# range(a,b, step) a~b미만 step 간격 수열\n",
    "for i in range(1, n+1):\n",
    "    sum += i\n",
    "\n",
    "print(f'1~n의 합 (for)= {sum}')\n",
    "\n",
    "\n",
    "sum = 0\n",
    "i = 1\n",
    "\n",
    "while i <=n:\n",
    "    sum += i\n",
    "    i+= 1\n",
    "\n",
    "print(f'1~n의 합 (while)= {sum}')\n",
    "\n",
    "\n",
    "a = 5\n",
    "b = 10\n",
    "# a~b까지 합\n",
    "for i in range(a, b+1):\n",
    "    sum += i\n",
    "\n",
    "print(f'5~10 까지의 합 = {sum}')"
   ]
  },
  {
   "cell_type": "code",
   "execution_count": null,
   "metadata": {},
   "outputs": [],
   "source": []
  }
 ],
 "metadata": {
  "kernelspec": {
   "display_name": "Python 3",
   "language": "python",
   "name": "python3"
  },
  "language_info": {
   "codemirror_mode": {
    "name": "ipython",
    "version": 3
   },
   "file_extension": ".py",
   "mimetype": "text/x-python",
   "name": "python",
   "nbconvert_exporter": "python",
   "pygments_lexer": "ipython3",
   "version": "3.7.3"
  }
 },
 "nbformat": 4,
 "nbformat_minor": 4
}
